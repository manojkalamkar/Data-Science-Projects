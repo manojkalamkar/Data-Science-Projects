{
 "cells": [
  {
   "cell_type": "markdown",
   "metadata": {
    "collapsed": false
   },
   "source": [
    "# Domain: Social Network\n",
    "Project 05: Facebook data\n",
    "Dataset contains pseudo Facebook data.\n",
    "\n",
    "Attribute Information:\n",
    "Userid : ID of user\n",
    "Age : User’s age(years)\n",
    "dob_day : Day of date of birth(1-31)\n",
    "dob_year : Year of date of birth \n",
    "dob_month : Month of date of birth \n",
    "gender : M/F\n",
    "tenure : How long have facebook users been on site\n",
    "friend_count : Total number of friends \n",
    "friendships_initiated : Friend requests sent\n",
    "likes : Total number of likes by user\n",
    "likes_received : Total number of likes received by user \n",
    "mobile_likes : Number of likes by user(through mobile)\n",
    "mobile_likes_received : Number of likes recieved by user(through mobile) \n",
    "www_likes : Number of likes by user(through desktop website) \n",
    "www_likes_received : Number of likes received by user(through desktop)\n",
    "    \n",
    "Exploration ideas:\n",
    "Date of birth analysis Friend count analysis\n",
    "Tenure analysis\n",
    "Data transformations\n",
    "Frequency polygons, Boxplots."
   ]
  },
  {
   "cell_type": "code",
   "execution_count": 1,
   "metadata": {
    "collapsed": true
   },
   "outputs": [],
   "source": [
    "#Import the necessary packages\n",
    "\n",
    "import numpy as np\n",
    "import pandas as pd\n",
    "import matplotlib.pyplot as plt\n",
    "import seaborn as sns\n",
    "import matplotlib as mpl\n",
    "%matplotlib inline"
   ]
  },
  {
   "cell_type": "code",
   "execution_count": 2,
   "metadata": {
    "collapsed": false
   },
   "outputs": [
    {
     "data": {
      "text/html": [
       "<div>\n",
       "<table border=\"1\" class=\"dataframe\">\n",
       "  <thead>\n",
       "    <tr style=\"text-align: right;\">\n",
       "      <th></th>\n",
       "      <th>dob_year_dob_month_dob_day</th>\n",
       "      <th>userid</th>\n",
       "      <th>age</th>\n",
       "      <th>gender</th>\n",
       "      <th>tenure</th>\n",
       "      <th>friend_count</th>\n",
       "      <th>friendships_initiated</th>\n",
       "      <th>likes</th>\n",
       "      <th>likes_received</th>\n",
       "      <th>mobile_likes</th>\n",
       "      <th>mobile_likes_received</th>\n",
       "      <th>www_likes</th>\n",
       "      <th>www_likes_received</th>\n",
       "    </tr>\n",
       "  </thead>\n",
       "  <tbody>\n",
       "    <tr>\n",
       "      <th>98998</th>\n",
       "      <td>1945-04-04</td>\n",
       "      <td>1268299</td>\n",
       "      <td>68</td>\n",
       "      <td>female</td>\n",
       "      <td>541.0</td>\n",
       "      <td>2118</td>\n",
       "      <td>341</td>\n",
       "      <td>3996</td>\n",
       "      <td>18089</td>\n",
       "      <td>3505</td>\n",
       "      <td>11887</td>\n",
       "      <td>491</td>\n",
       "      <td>6202</td>\n",
       "    </tr>\n",
       "    <tr>\n",
       "      <th>98999</th>\n",
       "      <td>1995-03-12</td>\n",
       "      <td>1256153</td>\n",
       "      <td>18</td>\n",
       "      <td>female</td>\n",
       "      <td>21.0</td>\n",
       "      <td>1968</td>\n",
       "      <td>1720</td>\n",
       "      <td>4401</td>\n",
       "      <td>13412</td>\n",
       "      <td>4399</td>\n",
       "      <td>10592</td>\n",
       "      <td>2</td>\n",
       "      <td>2820</td>\n",
       "    </tr>\n",
       "    <tr>\n",
       "      <th>99000</th>\n",
       "      <td>1998-05-10</td>\n",
       "      <td>1195943</td>\n",
       "      <td>15</td>\n",
       "      <td>female</td>\n",
       "      <td>111.0</td>\n",
       "      <td>2002</td>\n",
       "      <td>1524</td>\n",
       "      <td>11959</td>\n",
       "      <td>12554</td>\n",
       "      <td>11959</td>\n",
       "      <td>11462</td>\n",
       "      <td>0</td>\n",
       "      <td>1092</td>\n",
       "    </tr>\n",
       "    <tr>\n",
       "      <th>99001</th>\n",
       "      <td>1990-04-11</td>\n",
       "      <td>1468023</td>\n",
       "      <td>23</td>\n",
       "      <td>female</td>\n",
       "      <td>416.0</td>\n",
       "      <td>2560</td>\n",
       "      <td>185</td>\n",
       "      <td>4506</td>\n",
       "      <td>6516</td>\n",
       "      <td>4506</td>\n",
       "      <td>5760</td>\n",
       "      <td>0</td>\n",
       "      <td>756</td>\n",
       "    </tr>\n",
       "    <tr>\n",
       "      <th>99002</th>\n",
       "      <td>1974-05-15</td>\n",
       "      <td>1397896</td>\n",
       "      <td>39</td>\n",
       "      <td>female</td>\n",
       "      <td>397.0</td>\n",
       "      <td>2049</td>\n",
       "      <td>768</td>\n",
       "      <td>9410</td>\n",
       "      <td>12443</td>\n",
       "      <td>9410</td>\n",
       "      <td>9530</td>\n",
       "      <td>0</td>\n",
       "      <td>2913</td>\n",
       "    </tr>\n",
       "  </tbody>\n",
       "</table>\n",
       "</div>"
      ],
      "text/plain": [
       "      dob_year_dob_month_dob_day   userid  age  gender  tenure  friend_count  \\\n",
       "98998                 1945-04-04  1268299   68  female   541.0          2118   \n",
       "98999                 1995-03-12  1256153   18  female    21.0          1968   \n",
       "99000                 1998-05-10  1195943   15  female   111.0          2002   \n",
       "99001                 1990-04-11  1468023   23  female   416.0          2560   \n",
       "99002                 1974-05-15  1397896   39  female   397.0          2049   \n",
       "\n",
       "       friendships_initiated  likes  likes_received  mobile_likes  \\\n",
       "98998                    341   3996           18089          3505   \n",
       "98999                   1720   4401           13412          4399   \n",
       "99000                   1524  11959           12554         11959   \n",
       "99001                    185   4506            6516          4506   \n",
       "99002                    768   9410           12443          9410   \n",
       "\n",
       "       mobile_likes_received  www_likes  www_likes_received  \n",
       "98998                  11887        491                6202  \n",
       "98999                  10592          2                2820  \n",
       "99000                  11462          0                1092  \n",
       "99001                   5760          0                 756  \n",
       "99002                   9530          0                2913  "
      ]
     },
     "execution_count": 2,
     "metadata": {},
     "output_type": "execute_result"
    }
   ],
   "source": [
    "#Read the input file in variable facebook\n",
    "\n",
    "path = 'C:/Manoj/Data Science/Foundation Projects/Facebook/pseudo_facebook.tsv'\n",
    "facebook = pd.read_csv(path,sep='\\t',parse_dates=[[3,4,2]])\n",
    "facebook.tail()"
   ]
  },
  {
   "cell_type": "code",
   "execution_count": 3,
   "metadata": {
    "collapsed": false
   },
   "outputs": [
    {
     "data": {
      "image/png": "[encoded data removed]",
      "text/plain": [
       "<matplotlib.figure.Figure at 0xc55cc88>"
      ]
     },
     "metadata": {},
     "output_type": "display_data"
    }
   ],
   "source": [
    "# Draw a frequency polygon histogram to show the distribution of tenure of all users\n",
    "plt.hist(facebook.tenure.dropna(),10)\n",
    "plt.title(\"Frequency Distribution - Tenure of all users\")\n",
    "plt.xlabel(\"Tenure - In days\")\n",
    "plt.ylabel(\"Frequency\")\n",
    "plt.show()\n",
    "\n",
    "# Observation - 77% or more users joined in last couple of years"
   ]
  },
  {
   "cell_type": "code",
   "execution_count": 4,
   "metadata": {
    "collapsed": false
   },
   "outputs": [
    {
     "data": {
      "text/plain": [
       "76981"
      ]
     },
     "execution_count": 4,
     "metadata": {},
     "output_type": "execute_result"
    }
   ],
   "source": [
    "couple_years = facebook.loc[facebook.tenure < 730, 'userid']\n",
    "couple_years.count()"
   ]
  },
  {
   "cell_type": "code",
   "execution_count": 5,
   "metadata": {
    "collapsed": false
   },
   "outputs": [
    {
     "data": {
      "image/png": "[encoded data removed]",
      "text/plain": [
       "<matplotlib.figure.Figure at 0xd244ba8>"
      ]
     },
     "metadata": {},
     "output_type": "display_data"
    }
   ],
   "source": [
    "# Draw a frequency polygon histogram to show the distribution of age of all users\n",
    "plt.hist(facebook.age.dropna(),20)\n",
    "plt.title(\"Frequency Distribution - Ages of all users\")\n",
    "plt.xlabel(\"Age - # of Years\")\n",
    "plt.ylabel(\"Frequency\")\n",
    "plt.show()\n",
    "\n",
    "# Observation - Majority of users are of age group less than 40 and slowly it declines. Very less users are above 80"
   ]
  }
 ],
 "metadata": {
  "kernelspec": {
   "display_name": "Python 2",
   "language": "python",
   "name": "python2"
  },
  "language_info": {
   "codemirror_mode": {
    "name": "ipython",
    "version": 2
   },
   "file_extension": ".py",
   "mimetype": "text/x-python",
   "name": "python",
   "nbconvert_exporter": "python",
   "pygments_lexer": "ipython2",
   "version": "2.7.11"
  }
 },
 "nbformat": 4,
 "nbformat_minor": 0
}
